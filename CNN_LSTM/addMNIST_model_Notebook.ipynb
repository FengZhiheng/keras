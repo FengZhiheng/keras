{
 "cells": [
  {
   "cell_type": "code",
   "execution_count": 1,
   "metadata": {},
   "outputs": [
    {
     "name": "stderr",
     "output_type": "stream",
     "text": [
      "Using TensorFlow backend.\n"
     ]
    }
   ],
   "source": [
    "from __future__ import print_function\n",
    "import numpy as np\n",
    "import gc\n",
    "import keras\n",
    "import keras.backend as K\n",
    "from PIL import Image\n",
    "from keras.datasets import mnist\n",
    "from keras.models import Model\n",
    "from keras.layers.recurrent import SimpleRNN, LSTM, GRU\n",
    "from keras.optimizers import RMSprop\n",
    "from keras.layers.convolutional import Conv2D\n",
    "from keras.layers.core import Dense, Activation, Dropout, Flatten\n",
    "from keras.layers.wrappers import TimeDistributed\n",
    "from keras.layers import Input\n",
    "from keras.preprocessing.image import array_to_img\n",
    "from keras.applications.mobilenet import relu6, DepthwiseConv2D"
   ]
  },
  {
   "cell_type": "code",
   "execution_count": 17,
   "metadata": {},
   "outputs": [],
   "source": [
    "custom_objects = {\n",
    "    'relu6'          : relu6,\n",
    "    'DepthwiseConv2D': DepthwiseConv2D\n",
    "}\n"
   ]
  },
  {
   "cell_type": "code",
   "execution_count": 18,
   "metadata": {},
   "outputs": [
    {
     "data": {
      "text/plain": [
       "dict"
      ]
     },
     "execution_count": 18,
     "metadata": {},
     "output_type": "execute_result"
    }
   ],
   "source": [
    "type(custom_objects)"
   ]
  },
  {
   "cell_type": "code",
   "execution_count": 19,
   "metadata": {},
   "outputs": [],
   "source": [
    "# for reproducibility\n",
    "np.random.seed(2016)\n",
    "K.set_image_dim_ordering('tf')\n",
    "\n",
    "# define some run parameters\n",
    "batch_size = 32\n",
    "nb_epochs = 15\n",
    "examplesPer = 60000\n",
    "maxToAdd = 8\n",
    "hidden_units = 200\n",
    "size = 128"
   ]
  },
  {
   "cell_type": "code",
   "execution_count": 20,
   "metadata": {},
   "outputs": [
    {
     "name": "stdout",
     "output_type": "stream",
     "text": [
      "X_train_raw shape: (60000, 28, 28)\n",
      "X_test_raw shape: (10000, 28, 28)\n",
      "60000 train samples\n",
      "10000 test samples\n",
      "Building model\n"
     ]
    }
   ],
   "source": [
    "# the data, shuffled and split between train and test sets\n",
    "(X_train_raw, y_train_temp), (X_test_raw, y_test_temp) = mnist.load_data()\n",
    "\n",
    "print('X_train_raw shape:', X_train_raw.shape)\n",
    "print('X_test_raw shape:', X_test_raw.shape)\n",
    "print(X_train_raw.shape[0], 'train samples')\n",
    "print(X_test_raw.shape[0], 'test samples')\n",
    "print(\"Building model\")"
   ]
  },
  {
   "cell_type": "code",
   "execution_count": null,
   "metadata": {},
   "outputs": [],
   "source": []
  },
  {
   "cell_type": "code",
   "execution_count": 21,
   "metadata": {},
   "outputs": [],
   "source": [
    "# define our time-distributed setup\n",
    "inp = Input(shape=(maxToAdd, size, size, 3))\n",
    "base_model = keras.applications.MobileNet(input_shape=(size, size, 3),\n",
    "                                 include_top=False,\n",
    "                                 weights='imagenet',\n",
    "                                 input_tensor=None,\n",
    "                                 pooling='avg',\n",
    "                                 classes=10)\n",
    "x = TimeDistributed(base_model)(inp)\n",
    "x = GRU(units=100, return_sequences=True)(x)\n",
    "x = GRU(units=50, return_sequences=False)(x)\n",
    "x = Dropout(.2)(x)\n",
    "x = Dense(1)(x)\n",
    "model = Model(inp, x)\n",
    "\n",
    "rmsprop = RMSprop()\n",
    "model.compile(loss='mean_squared_error', optimizer=rmsprop)"
   ]
  },
  {
   "cell_type": "code",
   "execution_count": 22,
   "metadata": {},
   "outputs": [],
   "source": [
    "#优化器\n",
    "#type(rmsprop)"
   ]
  },
  {
   "cell_type": "code",
   "execution_count": 23,
   "metadata": {},
   "outputs": [],
   "source": [
    "#print(model.summary()) # Summarize Model，能够显示出来网络的结果，但是是文字形式\n",
    "\n",
    "\n"
   ]
  },
  {
   "cell_type": "code",
   "execution_count": 24,
   "metadata": {},
   "outputs": [],
   "source": [
    "\n",
    "## 绘制一下网络的结构\n",
    "# import os\n",
    "# os.environ[\"PATH\"] += os.pathsep + 'C:/Program Files (x86)/Graphviz2.38/bin/'#这一步需要手动安装一个exe文件\n",
    "\n",
    "# from keras.utils import plot_model \n",
    "# plot_model(model, to_file='model.png', show_shapes=True, show_layer_names=True) # plot my model\n"
   ]
  },
  {
   "cell_type": "code",
   "execution_count": 25,
   "metadata": {},
   "outputs": [],
   "source": [
    "\n",
    "## 绘制一下网络的结构\n",
    "# from keras.utils import plot_model \n",
    "# plot_model(base_model, to_file='base_model.png', show_shapes=True, show_layer_names=True) # plot my model"
   ]
  },
  {
   "cell_type": "code",
   "execution_count": 26,
   "metadata": {},
   "outputs": [],
   "source": [
    "# run epochs of sampling data then training\n",
    "# for ep in range(0, nb_epochs):\n",
    "#     X_train = np.zeros((examplesPer, maxToAdd, size, size, 3), dtype='float16')\n",
    "#     y_train = []\n",
    "\n",
    "#     for i in range(0, examplesPer):\n",
    "#         # initialize a training example of max_num_time_steps, im_size, im_size, 3\n",
    "#         output = np.zeros((maxToAdd, size, size, 3), dtype='float16')\n",
    "#         # decide how many MNIST images to put in that tensor\n",
    "#         numToAdd = int(np.ceil(np.random.rand()*maxToAdd))\n",
    "#         # sample that many images\n",
    "#         indices = np.random.choice(X_train_raw.shape[0], size=numToAdd)\n",
    "#         example = X_train_raw[indices]\n",
    "#         example_ = []\n",
    "#         for img in example:\n",
    "#             img = np.expand_dims(img, axis=-1)\n",
    "#             im = array_to_img(img).convert('RGB').resize((size, size), resample=Image.BILINEAR)\n",
    "#             example_.append(np.asarray(im) / 255.0)\n",
    "#         exampleY = y_train_temp[indices]\n",
    "#         output[0:numToAdd, :, :, :] = np.array(example_, dtype='float16')\n",
    "#         X_train[i, :, :, :, :] = output\n",
    "#         y_train.append(np.sum(exampleY))\n",
    "\n",
    "#     y_train = np.array(y_train)\n",
    "\n",
    "#     if ep == 0:\n",
    "#         print(\"X_train shape: \", X_train.shape)\n",
    "#         print(\"y_train shape: \", y_train.shape)\n",
    "\n",
    "#     model.fit(X_train, y_train, batch_size=batch_size, epochs=1,\n",
    "#               verbose=1)"
   ]
  },
  {
   "cell_type": "code",
   "execution_count": 27,
   "metadata": {},
   "outputs": [],
   "source": [
    "#maxToAdd"
   ]
  },
  {
   "cell_type": "code",
   "execution_count": 28,
   "metadata": {},
   "outputs": [],
   "source": [
    "# save the model\n",
    "jsonstring  = model.to_json()\n",
    "jsonstring = bytes(jsonstring, encoding = \"utf-8\")\n",
    "with open(\"./models/basicRNN.json\", 'wb') as f:\n",
    "   f.write(jsonstring)\n",
    "model.save_weights(\"./models/basicRNN.h5\", overwrite=True)"
   ]
  },
  {
   "cell_type": "code",
   "execution_count": 29,
   "metadata": {},
   "outputs": [],
   "source": [
    "jsonstring  = model.to_json()"
   ]
  },
  {
   "cell_type": "code",
   "execution_count": 30,
   "metadata": {},
   "outputs": [
    {
     "data": {
      "text/plain": [
       "str"
      ]
     },
     "execution_count": 30,
     "metadata": {},
     "output_type": "execute_result"
    }
   ],
   "source": [
    "type(jsonstring)"
   ]
  },
  {
   "cell_type": "code",
   "execution_count": 15,
   "metadata": {},
   "outputs": [],
   "source": [
    "#jsonstring"
   ]
  },
  {
   "cell_type": "code",
   "execution_count": 31,
   "metadata": {},
   "outputs": [
    {
     "ename": "KeyboardInterrupt",
     "evalue": "",
     "output_type": "error",
     "traceback": [
      "\u001b[1;31m---------------------------------------------------------------------------\u001b[0m",
      "\u001b[1;31mKeyboardInterrupt\u001b[0m                         Traceback (most recent call last)",
      "\u001b[1;32m<ipython-input-31-eddae3274a2b>\u001b[0m in \u001b[0;36m<module>\u001b[1;34m\u001b[0m\n\u001b[0;32m     14\u001b[0m     \u001b[0mexampleY\u001b[0m \u001b[1;33m=\u001b[0m \u001b[0my_test_temp\u001b[0m\u001b[1;33m[\u001b[0m\u001b[0mindices\u001b[0m\u001b[1;33m]\u001b[0m\u001b[1;33m\u001b[0m\u001b[1;33m\u001b[0m\u001b[0m\n\u001b[0;32m     15\u001b[0m     \u001b[0moutput\u001b[0m\u001b[1;33m[\u001b[0m\u001b[1;36m0\u001b[0m\u001b[1;33m:\u001b[0m\u001b[0mnumToAdd\u001b[0m\u001b[1;33m,\u001b[0m \u001b[1;33m:\u001b[0m\u001b[1;33m,\u001b[0m \u001b[1;33m:\u001b[0m\u001b[1;33m,\u001b[0m \u001b[1;33m:\u001b[0m\u001b[1;33m]\u001b[0m \u001b[1;33m=\u001b[0m \u001b[0mnp\u001b[0m\u001b[1;33m.\u001b[0m\u001b[0marray\u001b[0m\u001b[1;33m(\u001b[0m\u001b[0mexample_\u001b[0m\u001b[1;33m,\u001b[0m \u001b[0mdtype\u001b[0m\u001b[1;33m=\u001b[0m\u001b[1;34m'float16'\u001b[0m\u001b[1;33m)\u001b[0m\u001b[1;33m\u001b[0m\u001b[1;33m\u001b[0m\u001b[0m\n\u001b[1;32m---> 16\u001b[1;33m     \u001b[0mX_test\u001b[0m\u001b[1;33m[\u001b[0m\u001b[0mi\u001b[0m\u001b[1;33m,\u001b[0m \u001b[1;33m:\u001b[0m\u001b[1;33m,\u001b[0m \u001b[1;33m:\u001b[0m\u001b[1;33m,\u001b[0m \u001b[1;33m:\u001b[0m\u001b[1;33m,\u001b[0m \u001b[1;33m:\u001b[0m\u001b[1;33m]\u001b[0m \u001b[1;33m=\u001b[0m \u001b[0moutput\u001b[0m\u001b[1;33m\u001b[0m\u001b[1;33m\u001b[0m\u001b[0m\n\u001b[0m\u001b[0;32m     17\u001b[0m     \u001b[0my_test\u001b[0m\u001b[1;33m.\u001b[0m\u001b[0mappend\u001b[0m\u001b[1;33m(\u001b[0m\u001b[0mnp\u001b[0m\u001b[1;33m.\u001b[0m\u001b[0msum\u001b[0m\u001b[1;33m(\u001b[0m\u001b[0mexampleY\u001b[0m\u001b[1;33m)\u001b[0m\u001b[1;33m)\u001b[0m\u001b[1;33m\u001b[0m\u001b[1;33m\u001b[0m\u001b[0m\n\u001b[0;32m     18\u001b[0m \u001b[1;33m\u001b[0m\u001b[0m\n",
      "\u001b[1;31mKeyboardInterrupt\u001b[0m: "
     ]
    }
   ],
   "source": [
    "# Test the model\n",
    "X_test = np.zeros((examplesPer, maxToAdd, size, size, 3), dtype='float16')\n",
    "y_test = []\n",
    "for i in range(0, examplesPer):\n",
    "    output = np.zeros((maxToAdd, size, size, 3))\n",
    "    numToAdd = int(np.ceil(np.random.rand()*maxToAdd))\n",
    "    indices = np.random.choice(X_test_raw.shape[0], size=numToAdd)\n",
    "    example = X_test_raw[indices]\n",
    "    example_ = []\n",
    "    for img in example:\n",
    "        img = np.expand_dims(img, axis=-1)\n",
    "        im = array_to_img(img).convert('RGB').resize((size, size), resample=Image.BILINEAR)\n",
    "        example_.append(np.asarray(im) / 255.0)\n",
    "    exampleY = y_test_temp[indices]\n",
    "    output[0:numToAdd, :, :, :] = np.array(example_, dtype='float16')\n",
    "    X_test[i, :, :, :, :] = output\n",
    "    y_test.append(np.sum(exampleY))\n",
    "\n",
    "X_test = np.array(X_test)\n",
    "y_test = np.array(y_test)       \n",
    "\n"
   ]
  },
  {
   "cell_type": "code",
   "execution_count": null,
   "metadata": {},
   "outputs": [],
   "source": [
    "X_test.shape"
   ]
  },
  {
   "cell_type": "code",
   "execution_count": null,
   "metadata": {},
   "outputs": [],
   "source": [
    "preds = model.predict(X_test)"
   ]
  },
  {
   "cell_type": "code",
   "execution_count": null,
   "metadata": {},
   "outputs": [],
   "source": [
    "# print the results of the test\n",
    "print(np.sum(np.sqrt(np.mean([ (y_test[i] - preds[i][0])**2 for i in range(0,len(preds)) ]))))\n",
    "print(\"naive guess\", np.sum(np.sqrt(np.mean([ (y_test[i] - np.mean(y_test))**2 for i in range(0,len(y_test)) ]))))"
   ]
  },
  {
   "cell_type": "code",
   "execution_count": null,
   "metadata": {},
   "outputs": [],
   "source": []
  },
  {
   "cell_type": "code",
   "execution_count": null,
   "metadata": {},
   "outputs": [],
   "source": []
  },
  {
   "cell_type": "code",
   "execution_count": null,
   "metadata": {},
   "outputs": [],
   "source": []
  }
 ],
 "metadata": {
  "kernelspec": {
   "display_name": "Python 3",
   "language": "python",
   "name": "python3"
  },
  "language_info": {
   "codemirror_mode": {
    "name": "ipython",
    "version": 3
   },
   "file_extension": ".py",
   "mimetype": "text/x-python",
   "name": "python",
   "nbconvert_exporter": "python",
   "pygments_lexer": "ipython3",
   "version": "3.6.9"
  }
 },
 "nbformat": 4,
 "nbformat_minor": 2
}
